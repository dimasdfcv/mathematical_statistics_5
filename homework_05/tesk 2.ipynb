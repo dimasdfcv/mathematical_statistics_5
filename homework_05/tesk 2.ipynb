{
 "cells": [
  {
   "cell_type": "markdown",
   "metadata": {},
   "source": [
    "## Задача 2. Проведите тест гипотезы. \n",
    "\n",
    "Утверждается, что шарики для подшипников, изготовленные автоматическим станком, имеют средний диаметр 17 мм. Используя односторонний критерий с α=0,05, проверить эту гипотезу, если в выборке из n=100 шариков средний диаметр оказался равным 17.5 мм, а дисперсия генеральной совокупности известна и равна 4 кв. мм. (Решать вручную)\n",
    "\n",
    "#### 1. Определяем гипотезу\n",
    "\n",
    "Основаная гипотеза $H_0: M(X)=17, \\mu=\\mu_0$  \n",
    "Альтернативная гипотеза $H_1: M(X)=17.5, \\mu>\\mu_0$  \n",
    "$ ПКО: \\Omega_\\alpha=(t_{1-\\alpha}, \\infty)$  \n",
    "\n",
    "#### 2. Определяем наблюдаемое критерий\n",
    "\n",
    "Нам известны и среднее и дисперсия генеральной совокупности, соответственно для проверки гипотезы будем использовать $z$-критерий.  \n",
    "$z_н=\\frac{\\bar X-\\mu_0}{\\sigma/\\sqrt n}$:\n",
    "\n",
    "Дисперсия: $D(X)=4$  \n",
    "Среднее квадратическое отклонение генеральной совокупности: $\\sigma=\\sqrt{D(X)}=\\sqrt 4=2$  \n",
    "Размер выборки: $n=100$  \n",
    "$ \\bar X=17.5$  \n",
    "$ \\mu=17$  "
   ]
  },
  {
   "cell_type": "code",
   "execution_count": 1,
   "metadata": {},
   "outputs": [],
   "source": [
    "import numpy as np\n",
    "import scipy.stats as stats"
   ]
  },
  {
   "cell_type": "code",
   "execution_count": 2,
   "metadata": {},
   "outputs": [
    {
     "name": "stdout",
     "output_type": "stream",
     "text": [
      "Наблюдаемое значение z-критерия: 2.5\n"
     ]
    }
   ],
   "source": [
    "mu = 17.5\n",
    "mu0 = 17\n",
    "sigma = 2\n",
    "n = 100\n",
    "\n",
    "zn = (mu - mu0) / (sigma / np.sqrt(n))\n",
    "print(f'Наблюдаемое значение z-критерия: {round(zn, 4)}')"
   ]
  },
  {
   "cell_type": "markdown",
   "metadata": {},
   "source": [
    "#### 3. Определяем уровень значимости\n",
    "\n",
    "$\\alpha=0.05$\n",
    "\n",
    "#### 4. Определяем табличный критерий"
   ]
  },
  {
   "cell_type": "code",
   "execution_count": 3,
   "metadata": {},
   "outputs": [
    {
     "name": "stdout",
     "output_type": "stream",
     "text": [
      "Табличное значение z-критерия: 1.6449\n"
     ]
    }
   ],
   "source": [
    "alpha = 0.05\n",
    "\n",
    "zt = stats.norm.ppf(1 - alpha)\n",
    "print(f'Табличное значение z-критерия: {round(zt, 4)}')"
   ]
  },
  {
   "cell_type": "code",
   "execution_count": 11,
   "metadata": {},
   "outputs": [
    {
     "data": {
      "text/plain": [
       "False"
      ]
     },
     "execution_count": 11,
     "metadata": {},
     "output_type": "execute_result"
    }
   ],
   "source": [
    "zn < zt"
   ]
  },
  {
   "cell_type": "markdown",
   "metadata": {},
   "source": [
    "#### 5. Так как $z_н>z_t$, то нулевая гипотеза $H_0$ отвергается."
   ]
  }
 ],
 "metadata": {
  "kernelspec": {
   "display_name": "Python 3",
   "language": "python",
   "name": "python3"
  },
  "language_info": {
   "codemirror_mode": {
    "name": "ipython",
    "version": 3
   },
   "file_extension": ".py",
   "mimetype": "text/x-python",
   "name": "python",
   "nbconvert_exporter": "python",
   "pygments_lexer": "ipython3",
   "version": "3.11.6"
  }
 },
 "nbformat": 4,
 "nbformat_minor": 2
}
