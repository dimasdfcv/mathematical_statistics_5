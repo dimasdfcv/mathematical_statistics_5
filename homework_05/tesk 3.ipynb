{
 "cells": [
  {
   "cell_type": "markdown",
   "metadata": {},
   "source": [
    "## Задача 3. Проведите тест гипотезы.\n",
    "\n",
    "Продавец утверждает, что средний вес пачки печенья составляет 200 г. Из партии извлечена выборка из 10 пачек. Вес каждой пачки составляет: 202, 203, 199, 197, 195, 201, 200, 204, 194, 190. Известно, что их веса распределены нормально. Верно ли утверждение продавца, если учитывать, что уровень значимости 1%? (Провести двусторонний тест.) (Решать вручную)  \n",
    "\n",
    "#### 1. Определяем гипотезу\n",
    "\n",
    "Основаная гипотеза $H_0: M(X)=200, \\mu=\\mu_0$  \n",
    "Альтернативная гипотеза $H_1: M(X)=200, \\mu\\neq\\mu_0$  \n",
    "$ ДКО: \\Omega_\\alpha=(- \\infty, t_{\\alpha/2},) \\cup (t_{1-\\alpha/2}, \\infty)$  \n",
    "\n",
    "#### 2. Определяем наблюдаемое критерий\n",
    "\n",
    "Нам неизвестна дисперсия и мы проверяем гипотезу относительно математического ожидания нормально распределённой случайной величины будем использовать $t$-критерий.  \n",
    "$t=\\dfrac{\\overline{X}-\\mu}{\\sigma_X/\\sqrt{n}}$:\n",
    "\n",
    "Размер выборки: $n=10$  \n",
    "$ \\mu=200$  "
   ]
  },
  {
   "cell_type": "code",
   "execution_count": 2,
   "metadata": {},
   "outputs": [],
   "source": [
    "import numpy as np\n",
    "import scipy.stats as stats"
   ]
  },
  {
   "cell_type": "code",
   "execution_count": 3,
   "metadata": {},
   "outputs": [],
   "source": [
    "arr = np.array([202, 203, 199, 197, 195, 201, 200, 204, 194, 190])"
   ]
  },
  {
   "cell_type": "markdown",
   "metadata": {},
   "source": [
    "Расчитаем наблюдаемое значение $t$-критерия $t_н$"
   ]
  },
  {
   "cell_type": "code",
   "execution_count": 4,
   "metadata": {},
   "outputs": [
    {
     "name": "stdout",
     "output_type": "stream",
     "text": [
      "Наблюдаемое значение t-критерия: -1.0651\n"
     ]
    }
   ],
   "source": [
    "n = 10\n",
    "mu = 200\n",
    "tn = (np.mean(arr) - mu) / (np.std(arr, ddof = 1) / n**0.5)\n",
    "print(f'Наблюдаемое значение t-критерия: {round(tn, 4)}')"
   ]
  },
  {
   "cell_type": "markdown",
   "metadata": {},
   "source": [
    "### 3. Определяем уровень значимости\n",
    "\n",
    "$\\alpha=0.005$  "
   ]
  },
  {
   "cell_type": "code",
   "execution_count": 5,
   "metadata": {},
   "outputs": [
    {
     "name": "stdout",
     "output_type": "stream",
     "text": [
      "Табличное значение t-критерия: 3.2498\n"
     ]
    }
   ],
   "source": [
    "alpha = 0.005\n",
    "\n",
    "tt = stats.t.ppf(1 - alpha, n - 1)\n",
    "print(f'Табличное значение t-критерия: {round(tt, 4)}')"
   ]
  },
  {
   "cell_type": "code",
   "execution_count": 14,
   "metadata": {},
   "outputs": [
    {
     "data": {
      "text/plain": [
       "True"
      ]
     },
     "execution_count": 14,
     "metadata": {},
     "output_type": "execute_result"
    }
   ],
   "source": [
    "np.abs(tn) < tt"
   ]
  },
  {
   "cell_type": "markdown",
   "metadata": {},
   "source": [
    "#### 5. Так как $|t_н|<t_t$, то нулевая гипотеза $H_0$ не отвергается."
   ]
  }
 ],
 "metadata": {
  "kernelspec": {
   "display_name": "Python 3",
   "language": "python",
   "name": "python3"
  },
  "language_info": {
   "codemirror_mode": {
    "name": "ipython",
    "version": 3
   },
   "file_extension": ".py",
   "mimetype": "text/x-python",
   "name": "python",
   "nbconvert_exporter": "python",
   "pygments_lexer": "ipython3",
   "version": "3.11.6"
  }
 },
 "nbformat": 4,
 "nbformat_minor": 2
}
